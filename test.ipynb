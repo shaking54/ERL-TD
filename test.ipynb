{
 "cells": [
  {
   "cell_type": "code",
   "execution_count": 14,
   "metadata": {},
   "outputs": [
    {
     "data": {
      "text/plain": [
       "tensor([[2, 4, 3, 1]])"
      ]
     },
     "execution_count": 14,
     "metadata": {},
     "output_type": "execute_result"
    }
   ],
   "source": [
    "import torch\n",
    "import random\n",
    "\n",
    "nets = random.sample([1, 2, 3, 4], 4)\n",
    "\n",
    "torch.stack(tuple(torch.tensor([net]) for net in nets), dim=1)"
   ]
  },
  {
   "cell_type": "code",
   "execution_count": 2,
   "metadata": {},
   "outputs": [],
   "source": [
    "import re\n",
    "import pandas as pd\n",
    "import seaborn as sns\n",
    "from glob import glob\n",
    "pattern = r\"evaluate_num \t(\\w+), the ep_r is \t(-?\\d+\\.\\d+)\"\n",
    "\n",
    "df = pd.DataFrame(columns=[\"step\", \"reward\"])\n",
    "\n",
    "#for filename in glob(\"./log/Ant-v2_ERL-Re2_/*.log\"):\n",
    "with open(\"log/Ant-v3_ERL-Re2_/reward_2024-09-20-00-05_seed_1.log\", \"r\") as f:\n",
    "    content = f.read()\n",
    "    results = re.findall(pattern, content)\n",
    "    # if \"sac\" in filename:\n",
    "    #     names = [\"sac\"] * len(results)\n",
    "    # else:\n",
    "    #     names = [\"td3\"] * len(results)\n",
    "    df_the_dict = pd.DataFrame(results, columns=[\"step\", \"reward\"])\n",
    "    df = pd.concat([df, df_the_dict])"
   ]
  },
  {
   "cell_type": "code",
   "execution_count": 3,
   "metadata": {},
   "outputs": [],
   "source": [
    "df['reward'] = df['reward'].astype(float)\n",
    "df['step'] = df['step'].astype(int)"
   ]
  },
  {
   "cell_type": "code",
   "execution_count": 1,
   "metadata": {},
   "outputs": [
    {
     "name": "stderr",
     "output_type": "stream",
     "text": [
      "Failed to detect the name of this notebook, you can set it manually with the WANDB_NOTEBOOK_NAME environment variable to enable code saving.\n",
      "\u001b[34m\u001b[1mwandb\u001b[0m: Currently logged in as: \u001b[33mtrungnt-18\u001b[0m (\u001b[33merl_\u001b[0m). Use \u001b[1m`wandb login --relogin`\u001b[0m to force relogin\n"
     ]
    },
    {
     "data": {
      "text/html": [
       "wandb version 0.18.1 is available!  To upgrade, please run:\n",
       " $ pip install wandb --upgrade"
      ],
      "text/plain": [
       "<IPython.core.display.HTML object>"
      ]
     },
     "metadata": {},
     "output_type": "display_data"
    },
    {
     "data": {
      "text/html": [
       "Tracking run with wandb version 0.17.5"
      ],
      "text/plain": [
       "<IPython.core.display.HTML object>"
      ]
     },
     "metadata": {},
     "output_type": "display_data"
    },
    {
     "data": {
      "text/html": [
       "Run data is saved locally in <code>/home/shaking/ERL/ERL-TD/wandb/run-20240921_092558-hszxvt3g</code>"
      ],
      "text/plain": [
       "<IPython.core.display.HTML object>"
      ]
     },
     "metadata": {},
     "output_type": "display_data"
    },
    {
     "data": {
      "text/html": [
       "Syncing run <strong><a href='https://wandb.ai/erl_/Erl-re2/runs/hszxvt3g' target=\"_blank\">ERL-TD(SAC)Ant-v3</a></strong> to <a href='https://wandb.ai/erl_/Erl-re2' target=\"_blank\">Weights & Biases</a> (<a href='https://wandb.me/run' target=\"_blank\">docs</a>)<br/>"
      ],
      "text/plain": [
       "<IPython.core.display.HTML object>"
      ]
     },
     "metadata": {},
     "output_type": "display_data"
    },
    {
     "data": {
      "text/html": [
       " View project at <a href='https://wandb.ai/erl_/Erl-re2' target=\"_blank\">https://wandb.ai/erl_/Erl-re2</a>"
      ],
      "text/plain": [
       "<IPython.core.display.HTML object>"
      ]
     },
     "metadata": {},
     "output_type": "display_data"
    },
    {
     "data": {
      "text/html": [
       " View run at <a href='https://wandb.ai/erl_/Erl-re2/runs/hszxvt3g' target=\"_blank\">https://wandb.ai/erl_/Erl-re2/runs/hszxvt3g</a>"
      ],
      "text/plain": [
       "<IPython.core.display.HTML object>"
      ]
     },
     "metadata": {},
     "output_type": "display_data"
    },
    {
     "data": {
      "text/html": [
       "<button onClick=\"this.nextSibling.style.display='block';this.style.display='none';\">Display W&B run</button><iframe src='https://wandb.ai/erl_/Erl-re2/runs/hszxvt3g?jupyter=true' style='border:none;width:100%;height:420px;display:none;'></iframe>"
      ],
      "text/plain": [
       "<wandb.sdk.wandb_run.Run at 0x7f63267ae550>"
      ]
     },
     "execution_count": 1,
     "metadata": {},
     "output_type": "execute_result"
    }
   ],
   "source": [
    "import wandb\n",
    "import os\n",
    "os.environ[\"WANDB_API_KEY\"] = \"bd4f9ed4f0e350a34c7ef0ea98f697dd7cb718fe\"\n",
    "# os.environ[\"WANDB_clearMODE\"] = \"offline\"\n",
    "wandb.init(project=\"Erl-re2\",name=\"ERL-TD(SAC)Ant-v3\")"
   ]
  },
  {
   "cell_type": "code",
   "execution_count": 4,
   "metadata": {},
   "outputs": [],
   "source": [
    "for i in range(len(df)):\n",
    "    wandb.log({\"ep_r\": df.loc[i, \"reward\"]})"
   ]
  },
  {
   "cell_type": "code",
   "execution_count": 5,
   "metadata": {},
   "outputs": [
    {
     "data": {
      "text/plain": [
       "{1: 3, 2: 3, 3: 2, 4: 1}"
      ]
     },
     "execution_count": 5,
     "metadata": {},
     "output_type": "execute_result"
    }
   ],
   "source": [
    "def counting_appearances(arr: list) -> dict:\n",
    "    counting_dict = {}\n",
    "    for i in range(len(arr)):\n",
    "        if arr[i] in counting_dict:\n",
    "            counting_dict[arr[i]] += 1\n",
    "        else:\n",
    "            counting_dict[arr[i]] = 1\n",
    "    return counting_dict\n",
    "\n",
    "# testing\n",
    "counting_appearances([1, 2, 1,  1, 2])\n",
    "# expected output: {1: 3, 2: 2}"
   ]
  },
  {
   "cell_type": "code",
   "execution_count": null,
   "metadata": {},
   "outputs": [],
   "source": [
    "\n",
    "SELECT e.name, e.salary\n",
    "FROM employees e \n",
    "WHERE e.salary > 5000000"
   ]
  }
 ],
 "metadata": {
  "kernelspec": {
   "display_name": "phedarc",
   "language": "python",
   "name": "python3"
  },
  "language_info": {
   "codemirror_mode": {
    "name": "ipython",
    "version": 3
   },
   "file_extension": ".py",
   "mimetype": "text/x-python",
   "name": "python",
   "nbconvert_exporter": "python",
   "pygments_lexer": "ipython3",
   "version": "3.9.18"
  }
 },
 "nbformat": 4,
 "nbformat_minor": 2
}
