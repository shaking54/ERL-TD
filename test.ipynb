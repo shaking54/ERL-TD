{
 "cells": [
  {
   "cell_type": "code",
   "execution_count": 14,
   "metadata": {},
   "outputs": [
    {
     "data": {
      "text/plain": [
       "tensor([[2, 4, 3, 1]])"
      ]
     },
     "execution_count": 14,
     "metadata": {},
     "output_type": "execute_result"
    }
   ],
   "source": [
    "import torch\n",
    "import random\n",
    "\n",
    "nets = random.sample([1, 2, 3, 4], 4)\n",
    "\n",
    "torch.stack(tuple(torch.tensor([net]) for net in nets), dim=1)"
   ]
  },
  {
   "cell_type": "code",
   "execution_count": 29,
   "metadata": {},
   "outputs": [],
   "source": [
    "import torch\n",
    "import torch.nn as nn\n",
    "from torch.nn import functional as F\n",
    "\n",
    "class LayerNorm(nn.Module):\n",
    "\n",
    "    def __init__(self, features, eps=1e-6):\n",
    "        super().__init__()\n",
    "        self.gamma = nn.Parameter(torch.ones(features))\n",
    "        self.beta = nn.Parameter(torch.zeros(features))\n",
    "        self.eps = eps\n",
    "\n",
    "    def forward(self, x):\n",
    "        mean = x.mean(-1, keepdim=True)\n",
    "        std = x.std(-1, keepdim=True)\n",
    "        return self.gamma * (x - mean) / (std + self.eps) + self.beta\n",
    "\n",
    "class Q_network(nn.Module):\n",
    "    \n",
    "    def __init__(self, args, l1=400, l2=300, l3=300):\n",
    "        super(Q_network, self).__init__()\n",
    "        self.args = args\n",
    "        self.l1 = l1\n",
    "        # Construct input interface (Hidden Layer 1)\n",
    "        self.w_l1 = nn.Linear(args.state_dim+args.action_dim, l1)\n",
    "        # Hidden Layer 2\n",
    "        self.w_l2 = nn.Linear(l1, l2)\n",
    "        if self.args.use_ln:\n",
    "            self.lnorm1 = LayerNorm(l1)\n",
    "            self.lnorm2 = LayerNorm(l2)\n",
    "        # Out\n",
    "        self.w_out = nn.Linear(l3, 1)\n",
    "        self.w_out.weight.data.mul_(0.1)\n",
    "        self.w_out.bias.data.mul_(0.1)\n",
    "        self.to(self.args.device)\n",
    "\n",
    "    def forward(self, input_):\n",
    "        # Hidden Layer 1 (Input Interface)\n",
    "        out = self.w_l1(input_)\n",
    "        if self.args.use_ln:out = self.lnorm1(out)\n",
    "        out = F.leaky_relu(out)\n",
    "        # Hidden Layer 2\n",
    "        out = self.w_l2(out)\n",
    "        if self.args.use_ln: out = self.lnorm2(out)\n",
    "        out = F.leaky_relu(out)\n",
    "        # Output interface\n",
    "        out = self.w_out(out)\n",
    "        return out\n",
    "\n",
    "class Critic(nn.Module):\n",
    "\n",
    "    def __init__(self, args, n_nets = 2):\n",
    "        super(Critic, self).__init__()\n",
    "        self.args = args\n",
    "\n",
    "        l1 = 400;\n",
    "        l2 = 300;\n",
    "        l3 = l2\n",
    "\n",
    "        self.Q1_nets = []\n",
    "        self.Q2_nets = []\n",
    "\n",
    "        for i in range(n_nets):\n",
    "            self.Q1_network = Q_network(args, l1, l2, l3)\n",
    "            self.Q2_network = Q_network(args, l1, l2, l3)\n",
    "        \n",
    "            self.Q1_nets.append(self.Q1_network)\n",
    "            self.Q2_nets.append(self.Q2_network)\n",
    "\n",
    "    def forward(self, state, action):\n",
    "        sa = torch.cat((state, action), dim=-1)\n",
    "        quantiles_Q1 = torch.stack(tuple(net(sa) for net in self.Q1_nets), dim=1)\n",
    "        quantiles_Q2 = torch.stack(tuple(net(sa) for net in self.Q2_nets), dim=1)\n",
    "        return quantiles_Q1, quantiles_Q2"
   ]
  },
  {
   "cell_type": "code",
   "execution_count": 30,
   "metadata": {},
   "outputs": [],
   "source": [
    "class Args:\n",
    "    def __init__(self):\n",
    "        self.state_dim = 3\n",
    "        self.action_dim = 1\n",
    "        self.device = 'cpu'\n",
    "        self.use_ln = False\n",
    "\n",
    "args = Args()\n",
    "\n",
    "critic = Critic(args)"
   ]
  },
  {
   "cell_type": "code",
   "execution_count": 31,
   "metadata": {},
   "outputs": [],
   "source": [
    "test_input = torch.rand(1, 3)\n",
    "test_action = torch.rand(1, 1)\n",
    "\n",
    "quantiles_Q1, quantiles_Q2 = critic.forward(state=test_input, action=test_action)"
   ]
  },
  {
   "cell_type": "code",
   "execution_count": 36,
   "metadata": {},
   "outputs": [
    {
     "data": {
      "text/plain": [
       "tensor(1.1701e-05, grad_fn=<MeanBackward0>)"
      ]
     },
     "execution_count": 36,
     "metadata": {},
     "output_type": "execute_result"
    }
   ],
   "source": [
    "quantiles_Q2.var(dim=1).mean()"
   ]
  }
 ],
 "metadata": {
  "kernelspec": {
   "display_name": "phedarc",
   "language": "python",
   "name": "python3"
  },
  "language_info": {
   "codemirror_mode": {
    "name": "ipython",
    "version": 3
   },
   "file_extension": ".py",
   "mimetype": "text/x-python",
   "name": "python",
   "nbconvert_exporter": "python",
   "pygments_lexer": "ipython3",
   "version": "3.9.18"
  }
 },
 "nbformat": 4,
 "nbformat_minor": 2
}
